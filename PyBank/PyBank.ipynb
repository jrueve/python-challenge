{
 "cells": [
  {
   "cell_type": "code",
   "execution_count": 19,
   "id": "ff497ad5-f793-4fe0-a299-0613c9a4afec",
   "metadata": {},
   "outputs": [],
   "source": [
    "import os\n",
    "import csv"
   ]
  },
  {
   "cell_type": "code",
   "execution_count": 20,
   "id": "fc419090-ab4f-476c-b21c-f023f6be3280",
   "metadata": {},
   "outputs": [],
   "source": [
    "csvpath = os.path.join(\"Resources\",\"budget_data.csv\")"
   ]
  },
  {
   "cell_type": "code",
   "execution_count": 21,
   "id": "d48a77e8-70c5-4182-bd18-d553b7c692d9",
   "metadata": {},
   "outputs": [
    {
     "name": "stdout",
     "output_type": "stream",
     "text": [
      "Jan-10\n",
      "Feb-10\n",
      "Mar-10\n",
      "Apr-10\n",
      "May-10\n",
      "Jun-10\n",
      "Jul-10\n",
      "Aug-10\n",
      "Sep-10\n",
      "Oct-10\n",
      "Nov-10\n",
      "Dec-10\n",
      "Jan-11\n",
      "Feb-11\n",
      "Mar-11\n",
      "Apr-11\n",
      "May-11\n",
      "Jun-11\n",
      "Jul-11\n",
      "Aug-11\n",
      "Sep-11\n",
      "Oct-11\n",
      "Nov-11\n",
      "Dec-11\n",
      "Jan-12\n",
      "Feb-12\n",
      "Mar-12\n",
      "Apr-12\n",
      "May-12\n",
      "Jun-12\n",
      "Jul-12\n",
      "Aug-12\n",
      "Sep-12\n",
      "Oct-12\n",
      "Nov-12\n",
      "Dec-12\n",
      "Jan-13\n",
      "Feb-13\n",
      "Mar-13\n",
      "Apr-13\n",
      "May-13\n",
      "Jun-13\n",
      "Jul-13\n",
      "Aug-13\n",
      "Sep-13\n",
      "Oct-13\n",
      "Nov-13\n",
      "Dec-13\n",
      "Jan-14\n",
      "Feb-14\n",
      "Mar-14\n",
      "Apr-14\n",
      "May-14\n",
      "Jun-14\n",
      "Jul-14\n",
      "Aug-14\n",
      "Sep-14\n",
      "Oct-14\n",
      "Nov-14\n",
      "Dec-14\n",
      "Jan-15\n",
      "Feb-15\n",
      "Mar-15\n",
      "Apr-15\n",
      "May-15\n",
      "Jun-15\n",
      "Jul-15\n",
      "Aug-15\n",
      "Sep-15\n",
      "Oct-15\n",
      "Nov-15\n",
      "Dec-15\n",
      "Jan-16\n",
      "Feb-16\n",
      "Mar-16\n",
      "Apr-16\n",
      "May-16\n",
      "Jun-16\n",
      "Jul-16\n",
      "Aug-16\n",
      "Sep-16\n",
      "Oct-16\n",
      "Nov-16\n",
      "Dec-16\n",
      "Jan-17\n",
      "Feb-17\n",
      "['Jan-10', 'Feb-10', 'Mar-10', 'Apr-10', 'May-10', 'Jun-10', 'Jul-10', 'Aug-10', 'Sep-10', 'Oct-10', 'Nov-10', 'Dec-10', 'Jan-11', 'Feb-11', 'Mar-11', 'Apr-11', 'May-11', 'Jun-11', 'Jul-11', 'Aug-11', 'Sep-11', 'Oct-11', 'Nov-11', 'Dec-11', 'Jan-12', 'Feb-12', 'Mar-12', 'Apr-12', 'May-12', 'Jun-12', 'Jul-12', 'Aug-12', 'Sep-12', 'Oct-12', 'Nov-12', 'Dec-12', 'Jan-13', 'Feb-13', 'Mar-13', 'Apr-13', 'May-13', 'Jun-13', 'Jul-13', 'Aug-13', 'Sep-13', 'Oct-13', 'Nov-13', 'Dec-13', 'Jan-14', 'Feb-14', 'Mar-14', 'Apr-14', 'May-14', 'Jun-14', 'Jul-14', 'Aug-14', 'Sep-14', 'Oct-14', 'Nov-14', 'Dec-14', 'Jan-15', 'Feb-15', 'Mar-15', 'Apr-15', 'May-15', 'Jun-15', 'Jul-15', 'Aug-15', 'Sep-15', 'Oct-15', 'Nov-15', 'Dec-15', 'Jan-16', 'Feb-16', 'Mar-16', 'Apr-16', 'May-16', 'Jun-16', 'Jul-16', 'Aug-16', 'Sep-16', 'Oct-16', 'Nov-16', 'Dec-16', 'Jan-17', 'Feb-17']\n"
     ]
    }
   ],
   "source": [
    "total = 0\n",
    "datelist = []\n",
    "profit = []\n",
    "\n",
    "with open(csvpath, newline=\"\", encoding='utf-8') as csvfile:\n",
    "    csvreader = csv.reader(csvfile, delimiter=\",\")\n",
    "    #print(csvreader)\n",
    "    csv_header = next(csvreader)\n",
    "    #print(f\"CSV Header: {csv_header}\")\n",
    "    #datalist = list(csvreader)\n",
    "    totalmonths = len(datalist)\n",
    "    for row in csvreader:  \n",
    "        total = total + int(row[1])\n",
    "        datelist.append(row[0])\n",
    "        profit.append(int(row[1]))\n",
    "        print(row[0])\n",
    "    beginprofit = int(datalist[0][1])\n",
    "    finalprofit =  0\n",
    "    diff = 0\n",
    "    monthlydiff = []\n",
    "    print(datelist)"
   ]
  },
  {
   "cell_type": "code",
   "execution_count": 22,
   "id": "ca92ace6-96dd-4091-b0d9-9b1895203039",
   "metadata": {},
   "outputs": [],
   "source": [
    "    for i in range(1, len(datalist)):\n",
    "        finalprofit = int(datalist[i][1])\n",
    "        diff = finalprofit - beginprofit\n",
    "        monthlydiff.append(diff)\n",
    "        beginprofit = int(datalist[i][1])\n",
    "    avgChange = round(sum(monthlydiff)/len(monthlydiff),2)\n",
    "    greatestincrease = max(monthlydiff)\n",
    "    greatestdecrease = min(monthlydiff)\n",
    "    greatestincreasedate = max(datelist)\n",
    "    greatestdecreasedate = min(datelist)"
   ]
  },
  {
   "cell_type": "code",
   "execution_count": 23,
   "id": "a083498f-326f-491e-9c87-1ca2921519ec",
   "metadata": {},
   "outputs": [
    {
     "name": "stdout",
     "output_type": "stream",
     "text": [
      "86\n",
      "22564198\n",
      "382539\n",
      "-8311.11\n",
      "1862002\n",
      "-1825558\n",
      "Sep-16\n",
      "Apr-10\n"
     ]
    }
   ],
   "source": [
    "    print(totalmonths)\n",
    "    print(total)\n",
    "    print(beginprofit)\n",
    "    print(avgChange)\n",
    "    print(greatestincrease)\n",
    "    print(greatestdecrease)\n",
    "    print(greatestincreasedate)\n",
    "    print(greatestdecreasedate)"
   ]
  },
  {
   "cell_type": "code",
   "execution_count": null,
   "id": "78698800-345d-4b24-9e9b-63089c95aaaa",
   "metadata": {},
   "outputs": [],
   "source": []
  }
 ],
 "metadata": {
  "kernelspec": {
   "display_name": "Python 3 (ipykernel)",
   "language": "python",
   "name": "python3"
  },
  "language_info": {
   "codemirror_mode": {
    "name": "ipython",
    "version": 3
   },
   "file_extension": ".py",
   "mimetype": "text/x-python",
   "name": "python",
   "nbconvert_exporter": "python",
   "pygments_lexer": "ipython3",
   "version": "3.12.4"
  }
 },
 "nbformat": 4,
 "nbformat_minor": 5
}
