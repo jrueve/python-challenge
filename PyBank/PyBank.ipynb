{
 "cells": [
  {
   "cell_type": "code",
   "execution_count": 321,
   "id": "ff497ad5-f793-4fe0-a299-0613c9a4afec",
   "metadata": {},
   "outputs": [],
   "source": [
    "#import dependencies\n",
    "import os\n",
    "import csv\n",
    "import pathlib"
   ]
  },
  {
   "cell_type": "code",
   "execution_count": 322,
   "id": "fc419090-ab4f-476c-b21c-f023f6be3280",
   "metadata": {},
   "outputs": [],
   "source": [
    "#select correct csv from resource file\n",
    "csvpath = os.path.join(\"Resources\",\"budget_data.csv\")"
   ]
  },
  {
   "cell_type": "code",
   "execution_count": 324,
   "id": "d48a77e8-70c5-4182-bd18-d553b7c692d9",
   "metadata": {},
   "outputs": [
    {
     "name": "stdout",
     "output_type": "stream",
     "text": [
      "22564198\n",
      "86\n",
      "['1088983', '-354534', '276622', '-728133', '852993', '563721', '-535208', '632349', '-173744', '950741', '-785750', '-1194133', '-589576', '-883921', '443564', '837887', '1081472', '464033', '-1066544', '323846', '-806551', '487053', '1128811', '791398', '739367', '-197825', '666016', '589771', '489290', '-471439', '120417', '175347', '855449', '605195', '-235220', '347138', '298510', '163254', '1141840', '542630', '99841', '752765', '-252949', '914424', '679524', '514377', '462102', '159782', '878810', '-946748', '340335', '292032', '502266', '265852', '851017', '-549615', '290162', '755391', '1073202', '313000', '241132', '1036589', '853904', '-388932', '982952', '537759', '547784', '-496214', '854181', '934719', '-288531', '-184383', '659541', '-1149123', '355882', '662284', '518681', '-748256', '-910775', '951227', '898241', '-729004', '-112209', '516313', '607208', '382539']\n",
      "1088983\n",
      "0\n",
      "[1088983, -354534, 276622, -728133, 852993, 563721, -535208, 632349, -173744, 950741, -785750, -1194133, -589576, -883921, 443564, 837887, 1081472, 464033, -1066544, 323846, -806551, 487053, 1128811, 791398, 739367, -197825, 666016, 589771, 489290, -471439, 120417, 175347, 855449, 605195, -235220, 347138, 298510, 163254, 1141840, 542630, 99841, 752765, -252949, 914424, 679524, 514377, 462102, 159782, 878810, -946748, 340335, 292032, 502266, 265852, 851017, -549615, 290162, 755391, 1073202, 313000, 241132, 1036589, 853904, -388932, 982952, 537759, 547784, -496214, 854181, 934719, -288531, -184383, 659541, -1149123, 355882, 662284, 518681, -748256, -910775, 951227, 898241, -729004, -112209, 516313, 607208, 382539]\n"
     ]
    }
   ],
   "source": [
    "#define empty variable\n",
    "datelist = []\n",
    "monthlydiff = []\n",
    "avgChange = 0\n",
    "\n",
    "#open csv read through each line and define the list or variables needed\n",
    "with open(csvpath, newline=\"\", encoding='utf-8') as csvfile:\n",
    "    csvreader = csv.reader(csvfile, delimiter=\",\")\n",
    "\n",
    "    csv_header = next(csvreader)\n",
    "\n",
    "    data_dict = {}\n",
    "    totalmonths = 0\n",
    "    total = 0\n",
    "    datelist = []\n",
    "    profitlist = []\n",
    "\n",
    "#loop through each row in csv to count total months profit, collect dates and profit in correct collumn\n",
    "    for row in csvreader:\n",
    "        #increase month count every row\n",
    "        totalmonths += 1\n",
    "        #count profit total every row\n",
    "        total = total + int(row[1])\n",
    "        #define date column\n",
    "        date = row[0]\n",
    "        #define profit column\n",
    "        profit = row[1]\n",
    "        #if date not already on list then add to list when name changes\n",
    "        if date not in datelist:\n",
    "            datelist.append(date)\n",
    "        #if profit not already on list then add to list when name changes\n",
    "        if profit not in profitlist:\n",
    "            profitlist.append(profit)\n",
    "        #create dictionary from two lists of date and profit to read instaed of csv when needed later\n",
    "    dict = {datelist[i]: profitlist[i] for i in range(len(datelist))}\n",
    "    #collect first value profit in list\n",
    "    beginprofit = list(dict.values())[0]\n",
    "    #define final profit as zero to start\n",
    "    finalprofit = 0\n",
    "    print(total)\n",
    "    print(totalmonths)\n",
    "    print(profitlist)\n",
    "    print(beginprofit)\n",
    "    print(finalprofit)\n",
    "    for i in range(0, len(profitlist)):\n",
    "        profitlist[i] = int(profitlist[i])\n",
    "    print(profitlist)"
   ]
  },
  {
   "cell_type": "code",
   "execution_count": 325,
   "id": "ca92ace6-96dd-4091-b0d9-9b1895203039",
   "metadata": {},
   "outputs": [
    {
     "name": "stdout",
     "output_type": "stream",
     "text": [
      "-10050.16\n",
      "1862002\n",
      "-1825558\n",
      "[-1088983, 706444, -1443517, 631156, -1004755, 1581126, -289272, -1098929, 1167557, -806093, 1124485, -1736491, -408383, 604557, -294345, 1327485, 394323, 243585, -617439, -1530577, 1390390, -1130397, 1293604, 641758, -337413, -52031, -937192, 863841, -76245, -100481, -960729, 591856, 54930, 680102, -250254, -840415, 582358, -48628, -135256, 978586, -599210, -442789, 652924, -1005714, 1167373, -234900, -165147, -52275, -302320, 719028, -1825558, 1287083, -48303, 210234, -236414, 585165, -1400632, 839777, 465229, 317811, -760202, -71868, 795457, -182685, -1242836, 1371884, -445193, 10025, -1043998, 1350395, 80538, -1223250, 104148, 843924, -1808664, 1505005, 306402, -143603, -1266937, -162519, 1862002, -52986, -1627245, 616795, 628522, 90895]\n",
      "Aug-16\n",
      "Feb-14\n"
     ]
    }
   ],
   "source": [
    "#define average change as zero to start \n",
    "avgChange = 0\n",
    "#loop through number of values in profitlist\n",
    "for i in range(0, len(profitlist)):\n",
    "    #calculate differeence of beginning value and final value \n",
    "    diff = int(finalprofit) - int(beginprofit)\n",
    "    monthlydiff.append(diff)\n",
    "    beginprofit = profitlist[i -1]\n",
    "    finalprofit = profitlist[i]\n",
    "avgChange = round(sum(monthlydiff)/len(monthlydiff),2)\n",
    "print(avgChange)\n",
    "greatestincrease = max(monthlydiff)\n",
    "greatestdecrease = min(monthlydiff)\n",
    "greatest_increase_index = monthlydiff.index(greatestincrease)\n",
    "greatest_decrease_index = monthlydiff.index(greatestdecrease)\n",
    "greatestincreasedate = datelist[greatest_increase_index -1]\n",
    "greatestdecreasedate = datelist[greatest_decrease_index-1]\n",
    "print(greatestincrease)\n",
    "print(greatestdecrease)\n",
    "print(monthlydiff)\n",
    "print(greatestincreasedate)\n",
    "print(greatestdecreasedate)"
   ]
  },
  {
   "cell_type": "code",
   "execution_count": 203,
   "metadata": {},
   "outputs": [
    {
     "name": "stdout",
     "output_type": "stream",
     "text": [
      "-864314\n",
      "-10050.16\n"
     ]
    }
   ],
   "source": []
  },
  {
   "cell_type": "code",
   "execution_count": 204,
   "id": "a083498f-326f-491e-9c87-1ca2921519ec",
   "metadata": {},
   "outputs": [],
   "source": [
    "file_path = pathlib.Path(\"output_file.txt\")\n",
    "with file_path.open( \"w\") as outputfile:\n",
    "    print(\"Financial Ananlysis\",file=outputfile) \n",
    "    print(\"--------------------------------\",file =outputfile)\n",
    "    print(\"Total Months :\",totalmonths,file =outputfile)  \n",
    "    print(f\"Total : ${total}\",file =outputfile)\n",
    "    print(f\"Average Change : ${avgChange}\",file =outputfile)\n",
    "    print(f\"The Greatest Increase in Profits : { greatestincreasedate} (${greatestincrease})\",file =outputfile)\n",
    "    print(f\"The Greatest Decrease in Profits : { greatestdecreasedate} (${greatestdecrease})\",file =outputfile)"
   ]
  }
 ],
 "metadata": {
  "kernelspec": {
   "display_name": "Python 3 (ipykernel)",
   "language": "python",
   "name": "python3"
  },
  "language_info": {
   "codemirror_mode": {
    "name": "ipython",
    "version": 3
   },
   "file_extension": ".py",
   "mimetype": "text/x-python",
   "name": "python",
   "nbconvert_exporter": "python",
   "pygments_lexer": "ipython3",
   "version": "3.12.4"
  }
 },
 "nbformat": 4,
 "nbformat_minor": 5
}
