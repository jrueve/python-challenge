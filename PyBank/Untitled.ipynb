{
 "cells": [
  {
   "cell_type": "code",
   "execution_count": 1,
   "id": "ff497ad5-f793-4fe0-a299-0613c9a4afec",
   "metadata": {},
   "outputs": [],
   "source": [
    "import os\n",
    "import csv"
   ]
  },
  {
   "cell_type": "code",
   "execution_count": 2,
   "id": "fc419090-ab4f-476c-b21c-f023f6be3280",
   "metadata": {},
   "outputs": [],
   "source": [
    "csvpath = os.path.join(\"Resources\",\"budget_data.csv\")"
   ]
  },
  {
   "cell_type": "code",
   "execution_count": 3,
   "id": "d48a77e8-70c5-4182-bd18-d553b7c692d9",
   "metadata": {},
   "outputs": [
    {
     "name": "stdout",
     "output_type": "stream",
     "text": [
      "[]\n"
     ]
    }
   ],
   "source": [
    "total = 0\n",
    "datelist = []\n",
    "profit = []\n",
    "\n",
    "with open(csvpath, newline=\"\", encoding='utf-8') as csvfile:\n",
    "    csvreader = csv.reader(csvfile, delimiter=\",\")\n",
    "    #print(csvreader)\n",
    "    csv_header = next(csvreader)\n",
    "    #print(f\"CSV Header: {csv_header}\")\n",
    "    datalist = list(csvreader)\n",
    "    totalmonths = len(datalist)\n",
    "    for row in csvreader:  \n",
    "        total = total + int(row[1])\n",
    "        datelist.append(row[0])\n",
    "        profit.append(int(row[1]))\n",
    "        print(row[0])\n",
    "    beginprofit = int(datalist[0][1])\n",
    "    finalprofit =  0\n",
    "    diff = 0\n",
    "    monthlydiff = []\n",
    "    print(datelist)"
   ]
  },
  {
   "cell_type": "code",
   "execution_count": 6,
   "id": "ca92ace6-96dd-4091-b0d9-9b1895203039",
   "metadata": {},
   "outputs": [
    {
     "ename": "AttributeError",
     "evalue": "'list' object has no attribute 'max'",
     "output_type": "error",
     "traceback": [
      "\u001b[0;31m---------------------------------------------------------------------------\u001b[0m",
      "\u001b[0;31mAttributeError\u001b[0m                            Traceback (most recent call last)",
      "Cell \u001b[0;32mIn[6], line 9\u001b[0m\n\u001b[1;32m      7\u001b[0m greatestincrease \u001b[38;5;241m=\u001b[39m \u001b[38;5;28mmax\u001b[39m(monthlydiff)\n\u001b[1;32m      8\u001b[0m greatestdecrease \u001b[38;5;241m=\u001b[39m \u001b[38;5;28mmin\u001b[39m(monthlydiff)\n\u001b[0;32m----> 9\u001b[0m greatestincreasedate \u001b[38;5;241m=\u001b[39m datelist\u001b[38;5;241m.\u001b[39mmax()\n\u001b[1;32m     10\u001b[0m greatestdecreasedate \u001b[38;5;241m=\u001b[39m datelist\u001b[38;5;241m.\u001b[39mmin()\n",
      "\u001b[0;31mAttributeError\u001b[0m: 'list' object has no attribute 'max'"
     ]
    }
   ],
   "source": [
    "    for i in range(1, len(datalist)):\n",
    "        finalprofit = int(datalist[i][1])\n",
    "        diff = finalprofit - beginprofit\n",
    "        monthlydiff.append(diff)\n",
    "        beginprofit = int(datalist[i][1])\n",
    "    avgChange = round(sum(monthlydiff)/len(monthlydiff),2)\n",
    "    greatestincrease = max(monthlydiff)\n",
    "    greatestdecrease = min(monthlydiff)\n",
    "    greatestincreasedate = datelist.max()\n",
    "    greatestdecreasedate = datelist.min()"
   ]
  },
  {
   "cell_type": "code",
   "execution_count": 7,
   "id": "a083498f-326f-491e-9c87-1ca2921519ec",
   "metadata": {},
   "outputs": [
    {
     "name": "stdout",
     "output_type": "stream",
     "text": [
      "86\n",
      "0\n",
      "382539\n",
      "-2770.37\n",
      "1862002\n",
      "-1825558\n"
     ]
    },
    {
     "ename": "NameError",
     "evalue": "name 'greatestincreasedate' is not defined",
     "output_type": "error",
     "traceback": [
      "\u001b[0;31m---------------------------------------------------------------------------\u001b[0m",
      "\u001b[0;31mNameError\u001b[0m                                 Traceback (most recent call last)",
      "Cell \u001b[0;32mIn[7], line 7\u001b[0m\n\u001b[1;32m      5\u001b[0m \u001b[38;5;28mprint\u001b[39m(greatestincrease)\n\u001b[1;32m      6\u001b[0m \u001b[38;5;28mprint\u001b[39m(greatestdecrease)\n\u001b[0;32m----> 7\u001b[0m \u001b[38;5;28mprint\u001b[39m(greatestincreasedate)\n\u001b[1;32m      8\u001b[0m \u001b[38;5;28mprint\u001b[39m(greatestdecreasedate)\n",
      "\u001b[0;31mNameError\u001b[0m: name 'greatestincreasedate' is not defined"
     ]
    }
   ],
   "source": [
    "    print(totalmonths)\n",
    "    print(total)\n",
    "    print(beginprofit)\n",
    "    print(avgChange)\n",
    "    print(greatestincrease)\n",
    "    print(greatestdecrease)\n",
    "    print(greatestincreasedate)\n",
    "    print(greatestdecreasedate)"
   ]
  },
  {
   "cell_type": "code",
   "execution_count": null,
   "id": "78698800-345d-4b24-9e9b-63089c95aaaa",
   "metadata": {},
   "outputs": [],
   "source": []
  }
 ],
 "metadata": {
  "kernelspec": {
   "display_name": "Python 3 (ipykernel)",
   "language": "python",
   "name": "python3"
  },
  "language_info": {
   "codemirror_mode": {
    "name": "ipython",
    "version": 3
   },
   "file_extension": ".py",
   "mimetype": "text/x-python",
   "name": "python",
   "nbconvert_exporter": "python",
   "pygments_lexer": "ipython3",
   "version": "3.12.4"
  }
 },
 "nbformat": 4,
 "nbformat_minor": 5
}
